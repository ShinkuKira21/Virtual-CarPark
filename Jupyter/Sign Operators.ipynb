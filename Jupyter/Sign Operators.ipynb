{
 "cells": [
  {
   "cell_type": "markdown",
   "metadata": {},
   "source": [
    "**My code identifiers (bet it is a fail)**"
   ]
  },
  {
   "cell_type": "code",
   "execution_count": 15,
   "metadata": {},
   "outputs": [
    {
     "name": "stdout",
     "output_type": "stream",
     "text": [
      "All Spaces are Empty\n",
      "-1\n"
     ]
    }
   ],
   "source": [
    "x = -1\n",
    "\n",
    "if(False) :\n",
    "    x -= 1\n",
    "if(False) :\n",
    "    x += 2\n",
    "if(False) :\n",
    "    x -= 3\n",
    "\n",
    "print(\"All Spaces are Empty\")\n",
    "print(x)"
   ]
  },
  {
   "cell_type": "code",
   "execution_count": 16,
   "metadata": {},
   "outputs": [
    {
     "name": "stdout",
     "output_type": "stream",
     "text": [
      "General Spaces are Full\n",
      "-2\n"
     ]
    }
   ],
   "source": [
    "x = -1\n",
    "\n",
    "if(True) :\n",
    "    x -= 1\n",
    "if(False) :\n",
    "    x += 2\n",
    "if(False) :\n",
    "    x -= 3\n",
    "\n",
    "print(\"General Spaces are Full\")\n",
    "print(x)"
   ]
  },
  {
   "cell_type": "code",
   "execution_count": 17,
   "metadata": {},
   "outputs": [
    {
     "name": "stdout",
     "output_type": "stream",
     "text": [
      "General Spaces and Disability Spaces are Full\n",
      "0\n"
     ]
    }
   ],
   "source": [
    "x = -1\n",
    "\n",
    "if(True) :\n",
    "    x -= 1\n",
    "if(True) :\n",
    "    x += 2\n",
    "if(False) :\n",
    "    x -= 3\n",
    "\n",
    "print(\"General Spaces and Disability Spaces are Full\")\n",
    "print(x)"
   ]
  },
  {
   "cell_type": "code",
   "execution_count": 18,
   "metadata": {},
   "outputs": [
    {
     "name": "stdout",
     "output_type": "stream",
     "text": [
      "Disability Spaces are Full\n",
      "1\n"
     ]
    }
   ],
   "source": [
    "x = -1\n",
    "\n",
    "if(False) :\n",
    "    x -= 1\n",
    "if(True) :\n",
    "    x += 2\n",
    "if(False) :\n",
    "    x -= 3\n",
    "\n",
    "print(\"Disability Spaces are Full\")\n",
    "print(x)"
   ]
  },
  {
   "cell_type": "code",
   "execution_count": 19,
   "metadata": {},
   "outputs": [
    {
     "name": "stdout",
     "output_type": "stream",
     "text": [
      "All Spaces are Full\n",
      "-3\n"
     ]
    }
   ],
   "source": [
    "x = -1\n",
    "\n",
    "if(True) :\n",
    "    x -= 1\n",
    "if(True) :\n",
    "    x += 2\n",
    "if(True) :\n",
    "    x -= 3\n",
    "\n",
    "print(\"All Spaces are Full\")\n",
    "print(x)"
   ]
  },
  {
   "cell_type": "code",
   "execution_count": 21,
   "metadata": {},
   "outputs": [
    {
     "name": "stdout",
     "output_type": "stream",
     "text": [
      "Child Spaces are Full\n",
      "-4\n"
     ]
    }
   ],
   "source": [
    "x = -1\n",
    "\n",
    "if(False) :\n",
    "    x -= 1\n",
    "if(False) :\n",
    "    x += 2\n",
    "if(True) :\n",
    "    x -= 3\n",
    "\n",
    "print(\"Child Spaces are Full\")\n",
    "print(x)"
   ]
  },
  {
   "cell_type": "code",
   "execution_count": 22,
   "metadata": {
    "scrolled": true
   },
   "outputs": [
    {
     "name": "stdout",
     "output_type": "stream",
     "text": [
      "General Spaces and Child Spaces are Full\n",
      "-5\n"
     ]
    }
   ],
   "source": [
    "x = -1\n",
    "\n",
    "if(True) :\n",
    "    x -= 1\n",
    "if(False) :\n",
    "    x += 2\n",
    "if(True) :\n",
    "    x -= 3\n",
    "\n",
    "print(\"General Spaces and Child Spaces are Full\")\n",
    "print(x)"
   ]
  },
  {
   "cell_type": "code",
   "execution_count": 23,
   "metadata": {},
   "outputs": [
    {
     "name": "stdout",
     "output_type": "stream",
     "text": [
      "Disability and Child Spaces are Full\n",
      "-2\n"
     ]
    }
   ],
   "source": [
    "x = -1\n",
    "\n",
    "if(False) :\n",
    "    x -= 1\n",
    "if(True) :\n",
    "    x += 2\n",
    "if(True) :\n",
    "    x -= 3\n",
    "\n",
    "print(\"Disability and Child Spaces are Full\")\n",
    "print(x)"
   ]
  },
  {
   "cell_type": "code",
   "execution_count": null,
   "metadata": {},
   "outputs": [],
   "source": []
  }
 ],
 "metadata": {
  "kernelspec": {
   "display_name": "Python 3",
   "language": "python",
   "name": "python3"
  },
  "language_info": {
   "codemirror_mode": {
    "name": "ipython",
    "version": 3
   },
   "file_extension": ".py",
   "mimetype": "text/x-python",
   "name": "python",
   "nbconvert_exporter": "python",
   "pygments_lexer": "ipython3",
   "version": "3.7.9"
  }
 },
 "nbformat": 4,
 "nbformat_minor": 4
}
