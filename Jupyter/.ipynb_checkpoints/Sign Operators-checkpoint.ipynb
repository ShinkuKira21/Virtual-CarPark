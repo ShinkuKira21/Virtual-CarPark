{
 "cells": [
  {
   "cell_type": "markdown",
   "metadata": {},
   "source": [
    "**My code identifiers (bet it is a fail)**"
   ]
  },
  {
   "cell_type": "code",
   "execution_count": 19,
   "metadata": {},
   "outputs": [
    {
     "name": "stdout",
     "output_type": "stream",
     "text": [
      "All Spaces are Empty\n",
      "-15\n"
     ]
    }
   ],
   "source": [
    "x = -15\n",
    "\n",
    "if(False) :\n",
    "    x -= 15\n",
    "if(False) :\n",
    "    x += 2\n",
    "if(False) :\n",
    "    x -= 3\n",
    "\n",
    "print(\"All Spaces are Empty\")\n",
    "print(x)"
   ]
  },
  {
   "cell_type": "code",
   "execution_count": 20,
   "metadata": {},
   "outputs": [
    {
     "name": "stdout",
     "output_type": "stream",
     "text": [
      "General Spaces are Full\n",
      "-30\n"
     ]
    }
   ],
   "source": [
    "x = -15\n",
    "\n",
    "if(True) :\n",
    "    x -= 15\n",
    "if(False) :\n",
    "    x += 2\n",
    "if(False) :\n",
    "    x -= 3\n",
    "\n",
    "print(\"General Spaces are Full\")\n",
    "print(x)"
   ]
  },
  {
   "cell_type": "code",
   "execution_count": 21,
   "metadata": {},
   "outputs": [
    {
     "name": "stdout",
     "output_type": "stream",
     "text": [
      "General Spaces and Disability Spaces are Full\n",
      "-28\n"
     ]
    }
   ],
   "source": [
    "x = -15\n",
    "\n",
    "if(True) :\n",
    "    x -= 15\n",
    "if(True) :\n",
    "    x += 2\n",
    "if(False) :\n",
    "    x -= 3\n",
    "\n",
    "print(\"General Spaces and Disability Spaces are Full\")\n",
    "print(x)"
   ]
  },
  {
   "cell_type": "code",
   "execution_count": 22,
   "metadata": {},
   "outputs": [
    {
     "name": "stdout",
     "output_type": "stream",
     "text": [
      "Disability Spaces are Full\n",
      "-13\n"
     ]
    }
   ],
   "source": [
    "x = -15\n",
    "\n",
    "if(False) :\n",
    "    x -= 15\n",
    "if(True) :\n",
    "    x += 2\n",
    "if(False) :\n",
    "    x -= 3\n",
    "\n",
    "print(\"Disability Spaces are Full\")\n",
    "print(x)"
   ]
  },
  {
   "cell_type": "code",
   "execution_count": 23,
   "metadata": {},
   "outputs": [
    {
     "name": "stdout",
     "output_type": "stream",
     "text": [
      "All Spaces are Full\n",
      "-31\n"
     ]
    }
   ],
   "source": [
    "x = -15\n",
    "\n",
    "if(True) :\n",
    "    x -= 15\n",
    "if(True) :\n",
    "    x += 2\n",
    "if(True) :\n",
    "    x -= 3\n",
    "\n",
    "print(\"All Spaces are Full\")\n",
    "print(x)"
   ]
  },
  {
   "cell_type": "code",
   "execution_count": 24,
   "metadata": {},
   "outputs": [
    {
     "name": "stdout",
     "output_type": "stream",
     "text": [
      "Child Spaces are Full\n",
      "-18\n"
     ]
    }
   ],
   "source": [
    "x = -15\n",
    "\n",
    "if(False) :\n",
    "    x -= 15\n",
    "if(False) :\n",
    "    x += 2\n",
    "if(True) :\n",
    "    x -= 3\n",
    "\n",
    "print(\"Child Spaces are Full\")\n",
    "print(x)"
   ]
  },
  {
   "cell_type": "code",
   "execution_count": 25,
   "metadata": {
    "scrolled": true
   },
   "outputs": [
    {
     "name": "stdout",
     "output_type": "stream",
     "text": [
      "General Spaces and Child Spaces are Full\n",
      "-33\n"
     ]
    }
   ],
   "source": [
    "x = -15\n",
    "\n",
    "if(True) :\n",
    "    x -= 15\n",
    "if(False) :\n",
    "    x += 2\n",
    "if(True) :\n",
    "    x -= 3\n",
    "\n",
    "print(\"General Spaces and Child Spaces are Full\")\n",
    "print(x)"
   ]
  },
  {
   "cell_type": "code",
   "execution_count": 28,
   "metadata": {},
   "outputs": [
    {
     "name": "stdout",
     "output_type": "stream",
     "text": [
      "Disability and Child Spaces are Full\n",
      "-16\n"
     ]
    }
   ],
   "source": [
    "x = -15\n",
    "\n",
    "if(False) :\n",
    "    x -= 15\n",
    "if(True) :\n",
    "    x += 2\n",
    "if(True) :\n",
    "    x -= 3\n",
    "\n",
    "print(\"Disability and Child Spaces are Full\")\n",
    "print(x)"
   ]
  },
  {
   "cell_type": "code",
   "execution_count": null,
   "metadata": {},
   "outputs": [],
   "source": []
  }
 ],
 "metadata": {
  "kernelspec": {
   "display_name": "Python 3",
   "language": "python",
   "name": "python3"
  },
  "language_info": {
   "codemirror_mode": {
    "name": "ipython",
    "version": 3
   },
   "file_extension": ".py",
   "mimetype": "text/x-python",
   "name": "python",
   "nbconvert_exporter": "python",
   "pygments_lexer": "ipython3",
   "version": "3.7.9"
  }
 },
 "nbformat": 4,
 "nbformat_minor": 4
}
